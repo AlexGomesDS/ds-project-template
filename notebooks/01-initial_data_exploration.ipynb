{
 "cells": [
  {
   "cell_type": "code",
   "execution_count": null,
   "id": "9cfc510e",
   "metadata": {},
   "outputs": [],
   "source": [
    "# Load relevant libraries\n",
    "import pandas as pd\n",
    "import seaborn as sns\n",
    "\n",
    "from matplotlib import pyplot as plt\n",
    "\n",
    "\n",
    "# Set Matplotlib defaults\n",
    "plt.style.use(\"seaborn-whitegrid\")\n",
    "plt.rc(\n",
    "    \"figure\",\n",
    "    autolayout=True,\n",
    "    figsize=(11, 4),\n",
    "    titlesize=18,\n",
    "    titleweight=\"bold\",\n",
    ")\n",
    "\n",
    "plt.rc(\n",
    "    \"axes\",\n",
    "    labelweight=\"bold\",\n",
    "    labelsize=\"large\",\n",
    "    titleweight=\"bold\",\n",
    "    titlesize=16,\n",
    "    titlepad=10,\n",
    ")\n",
    "\n",
    "plot_params = dict(\n",
    "    #     color=\"0.75\",\n",
    "    style=\".-\",\n",
    "    markeredgecolor=\"0.25\",\n",
    "    markerfacecolor=\"0.25\",\n",
    ")\n",
    "\n",
    "# Constants\n",
    "DATA_FILE_PATH = \"../data/raw/data.csv\""
   ]
  },
  {
   "cell_type": "markdown",
   "id": "8262e192",
   "metadata": {},
   "source": [
    "# Data reading and basic data quality assesment"
   ]
  },
  {
   "cell_type": "code",
   "execution_count": null,
   "id": "5c3532f9",
   "metadata": {},
   "outputs": [],
   "source": [
    "!head -5 $DATA_FILE_PATH"
   ]
  },
  {
   "cell_type": "markdown",
   "id": "98b63b0e",
   "metadata": {},
   "source": [
    "Standard csv format with the index in first column. \n",
    "\n",
    "At first sight it also seems that the dataset contains duplicated rows."
   ]
  },
  {
   "cell_type": "code",
   "execution_count": null,
   "id": "14856558",
   "metadata": {},
   "outputs": [],
   "source": [
    "# import and visualize dataset\n",
    "df_data_raw = pd.read_csv(DATA_FILE_PATH, index_col=0)\n",
    "\n",
    "df_data_raw.head()"
   ]
  },
  {
   "cell_type": "code",
   "execution_count": null,
   "id": "147efeb9",
   "metadata": {
    "scrolled": false
   },
   "outputs": [],
   "source": [
    "# print data types\n",
    "df_data_raw.dtypes"
   ]
  },
  {
   "cell_type": "code",
   "execution_count": null,
   "id": "3c02b625",
   "metadata": {},
   "outputs": [],
   "source": []
  }
 ],
 "metadata": {
  "kernelspec": {
   "display_name": "Python 3 (ipykernel)",
   "language": "python",
   "name": "python3"
  },
  "language_info": {
   "codemirror_mode": {
    "name": "ipython",
    "version": 3
   },
   "file_extension": ".py",
   "mimetype": "text/x-python",
   "name": "python",
   "nbconvert_exporter": "python",
   "pygments_lexer": "ipython3",
   "version": "3.10.11"
  }
 },
 "nbformat": 4,
 "nbformat_minor": 5
}
